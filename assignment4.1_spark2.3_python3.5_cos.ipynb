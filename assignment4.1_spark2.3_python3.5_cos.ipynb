{
 "cells": [
  {
   "cell_type": "markdown",
   "metadata": {},
   "source": [
    "# Assignment 4\n",
    "\n",
    "Welcome to Assignment 4. This will be the most fun. Now we will prepare data for plotting.\n",
    "\n",
    "Just make sure you hit the play button on each cell from top to down. There are three functions you have to implement. Please also make sure than on each change on a function you hit the play button again on the corresponding cell to make it available to the rest of this notebook. Please also make sure to only implement the function bodies and DON'T add any additional code outside functions since this might confuse the autograder.\n",
    "\n",
    "So the function below is used to make it easy for you to create a data frame from a cloudant data frame using the so called \"DataSource\" which is some sort of a plugin which allows ApacheSpark to use different data sources.\n"
   ]
  },
  {
   "cell_type": "markdown",
   "metadata": {},
   "source": [
    "Sampling is one of the most important things when it comes to visualization because often the data set gets so huge that you simply\n",
    "\n",
    "- can't copy all data to a local Spark driver (Watson Studio is using a \"local\" Spark driver)\n",
    "- can't throw all data at the plotting library\n",
    "\n",
    "Please implement a function which returns a 10% sample of a given data frame:"
   ]
  },
  {
   "cell_type": "code",
   "execution_count": 2,
   "metadata": {
    "collapsed": true
   },
   "outputs": [],
   "source": [
    "def getSample(df,spark):\n",
    "    #TODO Please enter your code here, you are not required to use the template code below\n",
    "    #some reference: https://spark.apache.org/docs/latest/api/python/pyspark.sql.html#pyspark.sql.DataFrame\n",
    "    #https://spark.apache.org/docs/latest/api/sql/\n",
    "    return df.#YOUR CODE GOES HERE(False,#YOUR CODE GOES HERE)"
   ]
  },
  {
   "cell_type": "markdown",
   "metadata": {},
   "source": [
    "Now we want to create a histogram and boxplot. Please ignore the sampling for now and return a python list containing all temperature values from the data set"
   ]
  },
  {
   "cell_type": "code",
   "execution_count": 3,
   "metadata": {
    "collapsed": true
   },
   "outputs": [],
   "source": [
    "def getListForHistogramAndBoxPlot(df,spark):\n",
    "    #TODO Please enter your code here, you are not required to use the template code below\n",
    "    #some reference: https://spark.apache.org/docs/latest/api/python/pyspark.sql.html#pyspark.sql.DataFrame\n",
    "    #https://spark.apache.org/docs/latest/api/sql/\n",
    "    my_list = spark.sql(\"\"\"\n",
    "        SELECT #YOUR CODE GOES HERE from washing where temperature is not null\n",
    "    \"\"\").rdd.map(lambda row: row.temperature).#YOUR CODE GOES HERE\n",
    "    if not type(my_list)==list:\n",
    "        raise Exception('return type not a list')\n",
    "    return my_list"
   ]
  },
  {
   "cell_type": "markdown",
   "metadata": {},
   "source": [
    "Finally we want to create a run chart. Please return two lists (encapsulated in a python tuple object) containing temperature and timestamp (ts) ordered by timestamp. Please refer to the following link to learn more about tuples in python: https://www.tutorialspoint.com/python/python_tuples.htm"
   ]
  },
  {
   "cell_type": "code",
   "execution_count": 4,
   "metadata": {
    "collapsed": true
   },
   "outputs": [],
   "source": [
    "#should return a tuple containing the two lists for timestamp and temperature\n",
    "#please make sure you take only 10% of the data by sampling\n",
    "#please also ensure that you sample in a way that the timestamp samples and temperature samples correspond (=> call sample on an object still containing both dimensions)\n",
    "def getListsForRunChart(df,spark):\n",
    "    #TODO Please enter your code here, you are not required to use the template code below\n",
    "    #some reference: https://spark.apache.org/docs/latest/api/python/pyspark.sql.html#pyspark.sql.DataFrame\n",
    "    #https://spark.apache.org/docs/latest/api/sql/\n",
    "    double_tuple_rdd = spark.sql(\"\"\"\n",
    "        select #YOUR CODE GOES HERE,#YOUR CODE GOES HERE from washing where temperature is not null order by ts asc\n",
    "    \"\"\").#YOUR CODE GOES HERE(False,0.1).rdd.map(lambda row : (row.ts,row.temperature))\n",
    "    result_array_ts = double_tuple_rdd.map(lambda ts_temperature: ts_temperature[0]).collect()\n",
    "    result_array_temperature = double_tuple_rdd.map(lambda ts_temperature: ts_temperature[1]).collect()\n",
    "    return (result_array_ts,result_array_temperature)"
   ]
  },
  {
   "cell_type": "markdown",
   "metadata": {},
   "source": [
    "### PLEASE DON'T REMOVE THIS BLOCK - THE FOLLOWING CODE IS NOT GRADED\n",
    "#axx\n",
    "### PLEASE DON'T REMOVE THIS BLOCK - THE FOLLOWING CODE IS NOT GRADED"
   ]
  },
  {
   "cell_type": "markdown",
   "metadata": {},
   "source": [
    "Now it is time to grab a PARQUET file and create a dataframe out of it. Using SparkSQL you can handle it like a database. "
   ]
  },
  {
   "cell_type": "code",
   "execution_count": null,
   "metadata": {},
   "outputs": [],
   "source": [
    "!wget https://github.com/IBM/coursera/blob/master/coursera_ds/washing.parquet?raw=true\n",
    "!mv washing.parquet?raw=true washing.parquet"
   ]
  },
  {
   "cell_type": "code",
   "execution_count": null,
   "metadata": {},
   "outputs": [],
   "source": [
    "df = spark.read.parquet('washing.parquet')\n",
    "df.createOrReplaceTempView('washing')\n",
    "df.show()"
   ]
  },
  {
   "cell_type": "code",
   "execution_count": null,
   "metadata": {},
   "outputs": [],
   "source": [
    "%matplotlib inline\n",
    "import matplotlib.pyplot as plt"
   ]
  },
  {
   "cell_type": "code",
   "execution_count": 11,
   "metadata": {},
   "outputs": [
    {
     "data": {
      "image/png": "[encoded data removed]",
      "text/plain": [
       "<matplotlib.figure.Figure at 0x7f00a3e29250>"
      ]
     },
     "metadata": {},
     "output_type": "display_data"
    }
   ],
   "source": [
    "plt.hist(getListForHistogramAndBoxPlot(df,spark))\n",
    "plt.show()"
   ]
  },
  {
   "cell_type": "code",
   "execution_count": 12,
   "metadata": {},
   "outputs": [
    {
     "data": {
      "image/png": "[encoded data removed]",
      "text/plain": [
       "<matplotlib.figure.Figure at 0x7f007977e250>"
      ]
     },
     "metadata": {},
     "output_type": "display_data"
    }
   ],
   "source": [
    "plt.boxplot(getListForHistogramAndBoxPlot(df,spark))\n",
    "plt.show()"
   ]
  },
  {
   "cell_type": "code",
   "execution_count": 13,
   "metadata": {
    "collapsed": true
   },
   "outputs": [],
   "source": [
    "lists = getListsForRunChart(df,spark)"
   ]
  },
  {
   "cell_type": "code",
   "execution_count": 14,
   "metadata": {},
   "outputs": [
    {
     "data": {
      "image/png": "[encoded data removed]",
      "text/plain": [
       "<matplotlib.figure.Figure at 0x7f0079789c50>"
      ]
     },
     "metadata": {},
     "output_type": "display_data"
    }
   ],
   "source": [
    "plt.plot(lists[0],lists[1])\n",
    "plt.xlabel(\"time\")\n",
    "plt.ylabel(\"temperature\")\n",
    "plt.show()"
   ]
  },
  {
   "cell_type": "markdown",
   "metadata": {},
   "source": [
    "Congratulations, you are done! Please download the notebook as python file, name it assignment4.1.py and submit it to the grader."
   ]
  }
 ],
 "metadata": {
  "kernelspec": {
   "display_name": "Python 3",
   "language": "python",
   "name": "python3"
  },
  "language_info": {
   "codemirror_mode": {
    "name": "ipython",
    "version": 3
   },
   "file_extension": ".py",
   "mimetype": "text/x-python",
   "name": "python",
   "nbconvert_exporter": "python",
   "pygments_lexer": "ipython3",
   "version": "3.5.5"
  }
 },
 "nbformat": 4,
 "nbformat_minor": 1
}
